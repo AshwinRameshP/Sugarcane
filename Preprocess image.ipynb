{
 "cells": [
  {
   "cell_type": "code",
   "execution_count": 1,
   "metadata": {},
   "outputs": [],
   "source": [
    "import numpy as np\n",
    "import pandas as pd\n",
    "import cv2\n",
    "import os"
   ]
  },
  {
   "cell_type": "code",
   "execution_count": 2,
   "metadata": {},
   "outputs": [
    {
     "ename": "FileNotFoundError",
     "evalue": "[WinError 3] The system cannot find the path specified: './yellow leaf'",
     "output_type": "error",
     "traceback": [
      "\u001b[1;31m---------------------------------------------------------------------------\u001b[0m",
      "\u001b[1;31mFileNotFoundError\u001b[0m                         Traceback (most recent call last)",
      "\u001b[1;32m<ipython-input-2-435fe11e1924>\u001b[0m in \u001b[0;36m<module>\u001b[1;34m()\u001b[0m\n\u001b[1;32m----> 1\u001b[1;33m \u001b[0mprint\u001b[0m\u001b[1;33m(\u001b[0m\u001b[0mos\u001b[0m\u001b[1;33m.\u001b[0m\u001b[0mlistdir\u001b[0m\u001b[1;33m(\u001b[0m\u001b[1;34m\"./yellow leaf\"\u001b[0m\u001b[1;33m)\u001b[0m\u001b[1;33m)\u001b[0m\u001b[1;33m\u001b[0m\u001b[0m\n\u001b[0m\u001b[0;32m      2\u001b[0m \u001b[0mW\u001b[0m\u001b[1;33m=\u001b[0m\u001b[1;36m256\u001b[0m\u001b[1;33m\u001b[0m\u001b[0m\n",
      "\u001b[1;31mFileNotFoundError\u001b[0m: [WinError 3] The system cannot find the path specified: './yellow leaf'"
     ]
    }
   ],
   "source": [
    "print(os.listdir(\"./yellow leaf\"))\n",
    "W=256"
   ]
  },
  {
   "cell_type": "code",
   "execution_count": 21,
   "metadata": {},
   "outputs": [
    {
     "name": "stdout",
     "output_type": "stream",
     "text": [
      "10a.jpeg\n",
      "Image saved\n",
      "11a.jpeg\n",
      "Image saved\n",
      "12a.jpeg\n",
      "Image saved\n",
      "13a.jpeg\n",
      "Image saved\n",
      "14.jpeg\n",
      "Image saved\n",
      "14a.jpeg\n",
      "Image saved\n",
      "15.jpeg\n",
      "Image saved\n",
      "16.jpeg\n",
      "Image saved\n",
      "17.jpeg\n",
      "Image saved\n",
      "18.jpeg\n",
      "Image saved\n",
      "19.jpeg\n",
      "Image saved\n",
      "1a.jpeg\n",
      "Image saved\n",
      "20.jpeg\n",
      "Image saved\n",
      "2a.jpeg\n",
      "Image saved\n",
      "3a.jpeg\n",
      "Image saved\n",
      "4a.jpeg\n",
      "Image saved\n",
      "5a.jpeg\n",
      "Image saved\n",
      "6a.jpeg\n",
      "Image saved\n",
      "7a.jpeg\n",
      "Image saved\n",
      "8a.jpeg\n",
      "Image saved\n",
      "9a.jpeg\n",
      "Image saved\n",
      "y1.jpeg\n",
      "Image saved\n",
      "y2.jpeg\n",
      "Image saved\n"
     ]
    }
   ],
   "source": [
    "# Resize the yellow leaf DS\n",
    "for filename in os.listdir(\"./yellow leaf\"):\n",
    "    if filename.endswith('.jpeg') or filename.endswith('.JPEG'):\n",
    "        print(filename)\n",
    "        oriimg=cv2.imread(\"./yellow leaf/\"+filename)\n",
    "        height, width, depth = oriimg.shape\n",
    "        newimg = cv2.resize(oriimg,(255,255))\n",
    "        cv2.imwrite(str('./resized-yellow leaf/'+filename),newimg)        \n",
    "        print('Image saved')"
   ]
  },
  {
   "cell_type": "code",
   "execution_count": 22,
   "metadata": {},
   "outputs": [
    {
     "name": "stdout",
     "output_type": "stream",
     "text": [
      "1.jpeg\n",
      "Image saved\n",
      "10.jpeg\n",
      "Image saved\n",
      "11.jpeg\n",
      "Image saved\n",
      "12.jpeg\n",
      "Image saved\n",
      "13.jpeg\n",
      "Image saved\n",
      "2.jpeg\n",
      "Image saved\n",
      "3.jpeg\n",
      "Image saved\n",
      "4.jpeg\n",
      "Image saved\n",
      "5.jpeg\n",
      "Image saved\n",
      "6.jpeg\n",
      "Image saved\n",
      "7.jpeg\n",
      "Image saved\n",
      "8.jpeg\n",
      "Image saved\n",
      "9.jpeg\n",
      "Image saved\n"
     ]
    }
   ],
   "source": [
    "for filename in os.listdir(\"./wheat rust\"):\n",
    "    if filename.endswith('.jpeg'):\n",
    "        print(filename)\n",
    "        oriimg=cv2.imread(\"./wheat rust/\"+filename)\n",
    "        height, width, depth = oriimg.shape\n",
    "        newimg = cv2.resize(oriimg,(255,255))\n",
    "        cv2.imwrite(str('./resized-wheat rust/resized-'+filename),newimg)        \n",
    "        print('Image saved')"
   ]
  },
  {
   "cell_type": "code",
   "execution_count": null,
   "metadata": {},
   "outputs": [],
   "source": []
  }
 ],
 "metadata": {
  "kernelspec": {
   "display_name": "Python 3",
   "language": "python",
   "name": "python3"
  },
  "language_info": {
   "codemirror_mode": {
    "name": "ipython",
    "version": 3
   },
   "file_extension": ".py",
   "mimetype": "text/x-python",
   "name": "python",
   "nbconvert_exporter": "python",
   "pygments_lexer": "ipython3",
   "version": "3.6.5"
  }
 },
 "nbformat": 4,
 "nbformat_minor": 2
}
